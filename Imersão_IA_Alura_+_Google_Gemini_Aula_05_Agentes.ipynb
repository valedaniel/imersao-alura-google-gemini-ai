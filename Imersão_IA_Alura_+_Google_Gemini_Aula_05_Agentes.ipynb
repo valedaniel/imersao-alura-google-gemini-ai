{
  "nbformat": 4,
  "nbformat_minor": 0,
  "metadata": {
    "colab": {
      "provenance": []
    },
    "kernelspec": {
      "name": "python3",
      "display_name": "Python 3"
    },
    "language_info": {
      "name": "python"
    }
  },
  "cells": [
    {
      "cell_type": "code",
      "source": [
        "%pip -q install google-genai"
      ],
      "metadata": {
        "id": "UCCbECexLk_h"
      },
      "execution_count": 23,
      "outputs": []
    },
    {
      "cell_type": "code",
      "source": [
        "# Configura a API Key do Google Gemini\n",
        "\n",
        "import os\n",
        "from google.colab import userdata\n",
        "\n",
        "os.environ[\"GOOGLE_API_KEY\"] = userdata.get('GOOGLE_API_KEY')"
      ],
      "metadata": {
        "id": "NfCqHo1tLk8P"
      },
      "execution_count": 24,
      "outputs": []
    },
    {
      "cell_type": "code",
      "source": [
        "# Configura o cliente da SDK do Gemini\n",
        "\n",
        "from google import genai\n",
        "\n",
        "client = genai.Client()\n",
        "\n",
        "MODEL_ID = \"gemini-2.0-flash\""
      ],
      "metadata": {
        "id": "bV4w0H5TLk5g"
      },
      "execution_count": 25,
      "outputs": []
    },
    {
      "cell_type": "code",
      "source": [
        "# Pergunta ao Gemini uma informação mais recente que seu conhecimento\n",
        "\n",
        "from IPython.display import HTML, Markdown\n",
        "\n",
        "# Perguntar pro modelo quando é a próxima imersão de IA ###############################################\n",
        "resposta = client.models.generate_content(\n",
        "    model=MODEL_ID,\n",
        "    contents='Quando é a próxima Imersão IA com Google Gemini da Alura?',\n",
        ")\n",
        "\n",
        "# Exibe a resposta na tela\n",
        "display(Markdown(f\"Resposta:\\n {resposta.text}\"))"
      ],
      "metadata": {
        "id": "HwVP7Xi34Zuw",
        "colab": {
          "base_uri": "https://localhost:8080/",
          "height": 128
        },
        "outputId": "8a774375-6aa5-4053-a3dc-7c1aae59025e"
      },
      "execution_count": null,
      "outputs": [
        {
          "output_type": "display_data",
          "data": {
            "text/plain": [
              "<IPython.core.display.Markdown object>"
            ],
            "text/markdown": "Resposta:\n A Alura não tem uma data fixa para a Imersão IA com Google Gemini. A melhor forma de saber quando a próxima edição será realizada é:\n\n*   **Acompanhar as redes sociais da Alura:** Instagram, LinkedIn, etc.\n*   **Assinar a newsletter da Alura:** Geralmente, eles anunciam os eventos por e-mail.\n*   **Ficar de olho na página de eventos da Alura:** Verifique regularmente a seção de eventos do site da Alura.\n\nAssim que a data for definida, a Alura certamente fará um grande anúncio!"
          },
          "metadata": {}
        }
      ]
    },
    {
      "cell_type": "code",
      "source": [
        "# Pergunta ao Gemini uma informação utilizando a busca do Google como contexto\n",
        "\n",
        "response = client.models.generate_content(\n",
        "    model=MODEL_ID,\n",
        "    contents='Quando é a próxima Imersão IA com Google Gemini da Alura?',\n",
        "    config={\"tools\": [{\"google_search\": {}}]}\n",
        ")\n",
        "\n",
        "# Exibe a resposta na tela\n",
        "display(Markdown(f\"Resposta:\\n {response.text}\"))"
      ],
      "metadata": {
        "id": "yXaZd7iZ4ftw",
        "colab": {
          "base_uri": "https://localhost:8080/",
          "height": 64
        },
        "outputId": "ea630d2c-0f7b-4842-aaaa-2cb599daa365"
      },
      "execution_count": null,
      "outputs": [
        {
          "output_type": "display_data",
          "data": {
            "text/plain": [
              "<IPython.core.display.Markdown object>"
            ],
            "text/markdown": "Resposta:\n A próxima Imersão IA com Google Gemini da Alura acontecerá entre os dias 12 e 16 de maio de 2025. As aulas serão online e gratuitas e, no final, você receberá um certificado Alura + Google. As inscrições podem ser feitas até o dia 11 de maio."
          },
          "metadata": {}
        }
      ]
    },
    {
      "cell_type": "code",
      "source": [
        "# Exibe a busca\n",
        "print(f\"Busca realizada: {response.candidates[0].grounding_metadata.web_search_queries}\")\n",
        "# Exibe as URLs nas quais ele se baseou\n",
        "print(f\"Páginas utilizadas na resposta: {', '.join([site.web.title for site in response.candidates[0].grounding_metadata.grounding_chunks])}\")\n",
        "print()\n",
        "display(HTML(response.candidates[0].grounding_metadata.search_entry_point.rendered_content))"
      ],
      "metadata": {
        "id": "xHSNlTd84heJ",
        "colab": {
          "base_uri": "https://localhost:8080/",
          "height": 117
        },
        "outputId": "33cb9344-7ec7-4dc9-95e7-094773aa0b61"
      },
      "execution_count": null,
      "outputs": [
        {
          "output_type": "stream",
          "name": "stdout",
          "text": [
            "Busca realizada: ['Alura Imersão IA com Google Gemini']\n",
            "Páginas utilizadas na resposta: alura.com.br, tecmundo.com.br\n",
            "\n"
          ]
        },
        {
          "output_type": "display_data",
          "data": {
            "text/plain": [
              "<IPython.core.display.HTML object>"
            ],
            "text/html": [
              "<style>\n",
              ".container {\n",
              "  align-items: center;\n",
              "  border-radius: 8px;\n",
              "  display: flex;\n",
              "  font-family: Google Sans, Roboto, sans-serif;\n",
              "  font-size: 14px;\n",
              "  line-height: 20px;\n",
              "  padding: 8px 12px;\n",
              "}\n",
              ".chip {\n",
              "  display: inline-block;\n",
              "  border: solid 1px;\n",
              "  border-radius: 16px;\n",
              "  min-width: 14px;\n",
              "  padding: 5px 16px;\n",
              "  text-align: center;\n",
              "  user-select: none;\n",
              "  margin: 0 8px;\n",
              "  -webkit-tap-highlight-color: transparent;\n",
              "}\n",
              ".carousel {\n",
              "  overflow: auto;\n",
              "  scrollbar-width: none;\n",
              "  white-space: nowrap;\n",
              "  margin-right: -12px;\n",
              "}\n",
              ".headline {\n",
              "  display: flex;\n",
              "  margin-right: 4px;\n",
              "}\n",
              ".gradient-container {\n",
              "  position: relative;\n",
              "}\n",
              ".gradient {\n",
              "  position: absolute;\n",
              "  transform: translate(3px, -9px);\n",
              "  height: 36px;\n",
              "  width: 9px;\n",
              "}\n",
              "@media (prefers-color-scheme: light) {\n",
              "  .container {\n",
              "    background-color: #fafafa;\n",
              "    box-shadow: 0 0 0 1px #0000000f;\n",
              "  }\n",
              "  .headline-label {\n",
              "    color: #1f1f1f;\n",
              "  }\n",
              "  .chip {\n",
              "    background-color: #ffffff;\n",
              "    border-color: #d2d2d2;\n",
              "    color: #5e5e5e;\n",
              "    text-decoration: none;\n",
              "  }\n",
              "  .chip:hover {\n",
              "    background-color: #f2f2f2;\n",
              "  }\n",
              "  .chip:focus {\n",
              "    background-color: #f2f2f2;\n",
              "  }\n",
              "  .chip:active {\n",
              "    background-color: #d8d8d8;\n",
              "    border-color: #b6b6b6;\n",
              "  }\n",
              "  .logo-dark {\n",
              "    display: none;\n",
              "  }\n",
              "  .gradient {\n",
              "    background: linear-gradient(90deg, #fafafa 15%, #fafafa00 100%);\n",
              "  }\n",
              "}\n",
              "@media (prefers-color-scheme: dark) {\n",
              "  .container {\n",
              "    background-color: #1f1f1f;\n",
              "    box-shadow: 0 0 0 1px #ffffff26;\n",
              "  }\n",
              "  .headline-label {\n",
              "    color: #fff;\n",
              "  }\n",
              "  .chip {\n",
              "    background-color: #2c2c2c;\n",
              "    border-color: #3c4043;\n",
              "    color: #fff;\n",
              "    text-decoration: none;\n",
              "  }\n",
              "  .chip:hover {\n",
              "    background-color: #353536;\n",
              "  }\n",
              "  .chip:focus {\n",
              "    background-color: #353536;\n",
              "  }\n",
              "  .chip:active {\n",
              "    background-color: #464849;\n",
              "    border-color: #53575b;\n",
              "  }\n",
              "  .logo-light {\n",
              "    display: none;\n",
              "  }\n",
              "  .gradient {\n",
              "    background: linear-gradient(90deg, #1f1f1f 15%, #1f1f1f00 100%);\n",
              "  }\n",
              "}\n",
              "</style>\n",
              "<div class=\"container\">\n",
              "  <div class=\"headline\">\n",
              "    <svg class=\"logo-light\" width=\"18\" height=\"18\" viewBox=\"9 9 35 35\" fill=\"none\" xmlns=\"http://www.w3.org/2000/svg\">\n",
              "      <path fill-rule=\"evenodd\" clip-rule=\"evenodd\" d=\"M42.8622 27.0064C42.8622 25.7839 42.7525 24.6084 42.5487 23.4799H26.3109V30.1568H35.5897C35.1821 32.3041 33.9596 34.1222 32.1258 35.3448V39.6864H37.7213C40.9814 36.677 42.8622 32.2571 42.8622 27.0064V27.0064Z\" fill=\"#4285F4\"/>\n",
              "      <path fill-rule=\"evenodd\" clip-rule=\"evenodd\" d=\"M26.3109 43.8555C30.9659 43.8555 34.8687 42.3195 37.7213 39.6863L32.1258 35.3447C30.5898 36.3792 28.6306 37.0061 26.3109 37.0061C21.8282 37.0061 18.0195 33.9811 16.6559 29.906H10.9194V34.3573C13.7563 39.9841 19.5712 43.8555 26.3109 43.8555V43.8555Z\" fill=\"#34A853\"/>\n",
              "      <path fill-rule=\"evenodd\" clip-rule=\"evenodd\" d=\"M16.6559 29.8904C16.3111 28.8559 16.1074 27.7588 16.1074 26.6146C16.1074 25.4704 16.3111 24.3733 16.6559 23.3388V18.8875H10.9194C9.74388 21.2072 9.06992 23.8247 9.06992 26.6146C9.06992 29.4045 9.74388 32.022 10.9194 34.3417L15.3864 30.8621L16.6559 29.8904V29.8904Z\" fill=\"#FBBC05\"/>\n",
              "      <path fill-rule=\"evenodd\" clip-rule=\"evenodd\" d=\"M26.3109 16.2386C28.85 16.2386 31.107 17.1164 32.9095 18.8091L37.8466 13.8719C34.853 11.082 30.9659 9.3736 26.3109 9.3736C19.5712 9.3736 13.7563 13.245 10.9194 18.8875L16.6559 23.3388C18.0195 19.2636 21.8282 16.2386 26.3109 16.2386V16.2386Z\" fill=\"#EA4335\"/>\n",
              "    </svg>\n",
              "    <svg class=\"logo-dark\" width=\"18\" height=\"18\" viewBox=\"0 0 48 48\" xmlns=\"http://www.w3.org/2000/svg\">\n",
              "      <circle cx=\"24\" cy=\"23\" fill=\"#FFF\" r=\"22\"/>\n",
              "      <path d=\"M33.76 34.26c2.75-2.56 4.49-6.37 4.49-11.26 0-.89-.08-1.84-.29-3H24.01v5.99h8.03c-.4 2.02-1.5 3.56-3.07 4.56v.75l3.91 2.97h.88z\" fill=\"#4285F4\"/>\n",
              "      <path d=\"M15.58 25.77A8.845 8.845 0 0 0 24 31.86c1.92 0 3.62-.46 4.97-1.31l4.79 3.71C31.14 36.7 27.65 38 24 38c-5.93 0-11.01-3.4-13.45-8.36l.17-1.01 4.06-2.85h.8z\" fill=\"#34A853\"/>\n",
              "      <path d=\"M15.59 20.21a8.864 8.864 0 0 0 0 5.58l-5.03 3.86c-.98-2-1.53-4.25-1.53-6.64 0-2.39.55-4.64 1.53-6.64l1-.22 3.81 2.98.22 1.08z\" fill=\"#FBBC05\"/>\n",
              "      <path d=\"M24 14.14c2.11 0 4.02.75 5.52 1.98l4.36-4.36C31.22 9.43 27.81 8 24 8c-5.93 0-11.01 3.4-13.45 8.36l5.03 3.85A8.86 8.86 0 0 1 24 14.14z\" fill=\"#EA4335\"/>\n",
              "    </svg>\n",
              "    <div class=\"gradient-container\"><div class=\"gradient\"></div></div>\n",
              "  </div>\n",
              "  <div class=\"carousel\">\n",
              "    <a class=\"chip\" href=\"https://vertexaisearch.cloud.google.com/grounding-api-redirect/AbF9wXGXIZRxL8Bz2618fJudcl-f5wXv3RVHPScaBh6K5GI-JUSa0Zlz91F5HCTJcTcmZULsEODTzT5LGT9foL_rKBT5rE0LpyiFe4niJ_4IYf5Q5aWMYDh3G_Ex1SQQ76QLpvfNsppwJNn6dRgg6Ht_GoEPrgfGeuxsN63cHWREvuk8iUWexsxECP8EDdLqpSdqaNb4F1FlLSW3H-Y6afvjSLnfLKIGdEqvLTAc-g==\">Alura Imersão IA com Google Gemini</a>\n",
              "  </div>\n",
              "</div>\n"
            ]
          },
          "metadata": {}
        }
      ]
    },
    {
      "cell_type": "code",
      "source": [
        "# Instalar Framework ADK de agentes do Google ################################################\n",
        "!pip install -q google-adk"
      ],
      "metadata": {
        "id": "hvZ3UnPI4jhJ"
      },
      "execution_count": 26,
      "outputs": []
    },
    {
      "cell_type": "code",
      "execution_count": 27,
      "metadata": {
        "id": "aePV2bdfDeoW"
      },
      "outputs": [],
      "source": [
        "from google.adk.agents import Agent\n",
        "from google.adk.runners import Runner\n",
        "from google.adk.sessions import InMemorySessionService\n",
        "from google.adk.tools import google_search\n",
        "from google.genai import types  # Para criar conteúdos (Content e Part)\n",
        "from datetime import date\n",
        "import textwrap # Para formatar melhor a saída de texto\n",
        "from IPython.display import display, Markdown # Para exibir texto formatado no Colab\n",
        "import requests # Para fazer requisições HTTP\n",
        "import warnings\n",
        "\n",
        "warnings.filterwarnings(\"ignore\")"
      ]
    },
    {
      "cell_type": "code",
      "source": [
        "# Função auxiliar que envia uma mensagem para um agente via Runner e retorna a resposta final\n",
        "def call_agent(agent: Agent, message_text: str) -> str:\n",
        "    # Cria um serviço de sessão em memória\n",
        "    session_service = InMemorySessionService()\n",
        "    # Cria uma nova sessão (você pode personalizar os IDs conforme necessário)\n",
        "    session = session_service.create_session(app_name=agent.name, user_id=\"user1\", session_id=\"session1\")\n",
        "    # Cria um Runner para o agente\n",
        "    runner = Runner(agent=agent, app_name=agent.name, session_service=session_service)\n",
        "    # Cria o conteúdo da mensagem de entrada\n",
        "    content = types.Content(role=\"user\", parts=[types.Part(text=message_text)])\n",
        "\n",
        "    final_response = \"\"\n",
        "    # Itera assincronamente pelos eventos retornados durante a execução do agente\n",
        "    for event in runner.run(user_id=\"user1\", session_id=\"session1\", new_message=content):\n",
        "        if event.is_final_response():\n",
        "          for part in event.content.parts:\n",
        "            if part.text is not None:\n",
        "              final_response += part.text\n",
        "              final_response += \"\\n\"\n",
        "    return final_response"
      ],
      "metadata": {
        "id": "_xP4lWhsS5ko"
      },
      "execution_count": 28,
      "outputs": []
    },
    {
      "cell_type": "code",
      "source": [
        "# Função auxiliar para exibir texto formatado em Markdown no Colab\n",
        "def to_markdown(text):\n",
        "  text = text.replace('•', '  *')\n",
        "  return Markdown(textwrap.indent(text, '> ', predicate=lambda _: True))"
      ],
      "metadata": {
        "id": "8dosiodaxfFR"
      },
      "execution_count": 29,
      "outputs": []
    },
    {
      "cell_type": "code",
      "source": [
        "##########################################\n",
        "# --- Agente 1: Buscador de Notícias --- #\n",
        "##########################################\n",
        "\n",
        "def agente_buscador(topico, data_de_hoje):\n",
        "  buscador = Agent(\n",
        "      name=\"agente_buscador\",\n",
        "      model=\"gemini-2.0-flash\",\n",
        "      description=\"Agente que busca notícias sobre o tópico indicado\",\n",
        "      tools=[google_search],\n",
        "      instruction=\"\"\"\n",
        "      Você é um assistente de pesquisa. A sua tarefa é usar a ferramenta de busca do google (google_search)\n",
        "      para recuperar as últimas notícias de lançamentos muito relevantes sobre o tópico abaixo.\n",
        "\n",
        "      Foque em no máximo 5 lançamentos relevantes, com base na quantidade e entusiasmo das notícias sobre ele.\n",
        "\n",
        "      Se um tema tiver poucas notícias ou reações entusiasmadas, é possível que ele não seja tão relevante assim\n",
        "      e pode ser substituído por outro que tenha mais.\n",
        "\n",
        "      Esses lançamentos relevantes devem ser atuais, de no máximo um mês antes da data de hoje.\n",
        "      \"\"\"\n",
        "    )\n",
        "\n",
        "  entrada_do_agente_buscador = f\"Tópico: {topico}\\nData de hoje: {data_de_hoje}\"\n",
        "\n",
        "  lancamentos = call_agent(buscador, entrada_do_agente_buscador)\n",
        "\n",
        "  return lancamentos"
      ],
      "metadata": {
        "id": "o8bqIfi_DyH8"
      },
      "execution_count": 30,
      "outputs": []
    },
    {
      "cell_type": "code",
      "source": [
        "################################################\n",
        "# --- Agente 2: Planejador de posts --- #\n",
        "################################################\n",
        "def agente_planejador(topico, lancamentos_buscados):\n",
        "    planejador = Agent(\n",
        "        name=\"agente_planejador\",\n",
        "        model=\"gemini-2.0-flash\",\n",
        "        # Inserir as instruções do Agente Planejador #################################################\n",
        "        instruction=\"\"\"\n",
        "        Você é um planjeador de conteúdo, especialista em redes sociais. Com base na lista\n",
        "        de lançamentos mais recentes, você deve:\n",
        "        usar a ferramenta de busca do Google (google_search) para criar um plano sobre\n",
        "        quais são os pontos mais relevantes que poderíamos abordar em um post sobre\n",
        "        cada um deles. Você também pode usar o (google_search) para encontar mais\n",
        "        informações sobre os temas e aprofundar.\n",
        "\n",
        "        Ao final, você irá escolher o tema mais relevante entre eles com base nas suas\n",
        "        pesquisas e retornar esse tema, seus pontos mais relevantes, e um plano com os\n",
        "        assuntos a serem abordados no post que será escrito posteriormente.\n",
        "        \"\"\",\n",
        "        description=\"Agente que planeja posts\",\n",
        "        tools=[google_search]\n",
        "    )\n",
        "\n",
        "    entrada_do_agente_planejador = f\"Tópico:{topico}\\nLançamentos buscados: {lancamentos_buscados}\"\n",
        "    # Executa o agente\n",
        "    plano_do_post = call_agent(planejador, entrada_do_agente_planejador)\n",
        "    return plano_do_post"
      ],
      "metadata": {
        "id": "y3VO1uo5_ghO"
      },
      "execution_count": 31,
      "outputs": []
    },
    {
      "cell_type": "code",
      "source": [
        "######################################\n",
        "# --- Agente 3: Redator do Post --- #\n",
        "######################################\n",
        "def agente_redator(topico, plano_de_post):\n",
        "    redator = Agent(\n",
        "        name=\"agente_redator\",\n",
        "        model=\"gemini-2.0-flash\",\n",
        "        instruction=\"\"\"\n",
        "            Você é um Redator Criativo especializado em criar posts virais para redes sociais.\n",
        "            Você escreve posts para a empresa Alura, a maior escola online de tecnologia do Brasil.\n",
        "            Utilize o tema fornecido no plano de post e os pontos mais relevantes fornecidos e, com base nisso,\n",
        "            escreva um rascunho de post para Instagram sobre o tema indicado.\n",
        "            O post deve ser engajador, informativo, com linguagem simples e incluir 2 a 4 hashtags no final.\n",
        "            \"\"\",\n",
        "        description=\"Agente redator de posts engajadores para Instagram\"\n",
        "        tools=[google_search]\n",
        "    )\n",
        "    entrada_do_agente_redator = f\"Tópico: {topico}\\nPlano de post: {plano_de_post}\"\n",
        "    # Executa o agente\n",
        "    rascunho = call_agent(redator, entrada_do_agente_redator)\n",
        "    return rascunho"
      ],
      "metadata": {
        "id": "uOqlg2TRLVh1"
      },
      "execution_count": 35,
      "outputs": []
    },
    {
      "cell_type": "code",
      "source": [
        "##########################################\n",
        "# --- Agente 4: Revisor de Qualidade --- #\n",
        "##########################################\n",
        "def agente_revisor(topico, rascunho_gerado):\n",
        "    revisor = Agent(\n",
        "        name=\"agente_revisor\",\n",
        "        model=\"gemini-2.0-flash\",\n",
        "        instruction=\"\"\"\n",
        "            Você é um Editor e Revisor de Conteúdo meticuloso, especializado em posts para redes sociais, com foco no Instagram.\n",
        "            Por ter um público jovem, entre 18 e 30 anos, use um tom de escrita adequado.\n",
        "            Revise o rascunho de post de Instagram abaixo sobre o tópico indicado, verificando clareza, concisão, correção e tom.\n",
        "            Se o rascunho estiver bom, responda apenas 'O rascunho está ótimo e pronto para publicar!'.\n",
        "            Caso haja problemas, aponte-os e sugira melhorias.\n",
        "            \"\"\",\n",
        "        description=\"Agente revisor de post para redes sociais.\"\n",
        "        tools=[google_search]\n",
        "    )\n",
        "    entrada_do_agente_revisor = f\"Tópico: {topico}\\nRascunho: {rascunho_gerado}\"\n",
        "    # Executa o agente\n",
        "    texto_revisado = call_agent(revisor, entrada_do_agente_revisor)\n",
        "    return texto_revisado"
      ],
      "metadata": {
        "id": "_aTb1SdkLeT6"
      },
      "execution_count": 36,
      "outputs": []
    },
    {
      "cell_type": "code",
      "source": [
        "data_de_hoje = date.today().strftime(\"%d/%m/%Y\")\n",
        "\n",
        "print(\"🚀 Iniciando o Sistema de Criação de Posts para Instagram com 4 Agentes 🚀\")\n",
        "\n",
        "# --- Obter o Tópico do Usuário ---\n",
        "topico = input(\"❓ Por favor, digite o TÓPICO sobre o qual você quer criar o post de tendências: \")\n",
        "\n",
        "# Inserir lógica do sistema de agentes ################################################\n",
        "if not topico:\n",
        "  print(\"Digite o tópico que deseja gerar o post.\")\n",
        "else:\n",
        "  print(f\"Vamos começar criando o post sobre as novidades em {topico}!\")\n",
        "\n",
        "  lancamentos_buscados = agente_buscador(topico, data_de_hoje)\n",
        "  print(\"\\n--- Resultado do Agente buscador ---\\n\")\n",
        "  display(to_markdown(lancamentos_buscados))\n",
        "  print(\"----------------------------------------------------\")\n",
        "\n",
        "  plano_de_post = agente_planejador(topico, lancamentos_buscados)\n",
        "  print(\"\\n--- Resultado do Agente Planejador ---\\n\")\n",
        "  display(to_markdown(plano_de_post))\n",
        "  print(\"----------------------------------------------------\")\n",
        "\n",
        "  rascunho_gerado = agente_redator(topico, plano_de_post)\n",
        "  print(\"\\n--- Resultado do Agente Redator ---\\n\")\n",
        "  display(to_markdown(rascunho_gerado))\n",
        "  print(\"----------------------------------------------------\")\n",
        "\n",
        "  texto_revisado = agente_revisor(topico, rascunho_gerado)\n",
        "  print(\"\\n--- Resultado do Agente Revisor ---\\n\")\n",
        "  display(to_markdown(texto_revisado))\n",
        "  print(\"----------------------------------------------------\")\n",
        "\n",
        "  print(\"\\n🎉 Post criado com sucesso! 🎉\")\n",
        ""
      ],
      "metadata": {
        "id": "630ummxz4myx",
        "colab": {
          "base_uri": "https://localhost:8080/",
          "height": 1000
        },
        "outputId": "90a0f473-59f9-4fb4-9510-e76e108861ef"
      },
      "execution_count": 38,
      "outputs": [
        {
          "output_type": "stream",
          "name": "stdout",
          "text": [
            "🚀 Iniciando o Sistema de Criação de Posts para Instagram com 4 Agentes 🚀\n",
            "❓ Por favor, digite o TÓPICO sobre o qual você quer criar o post de tendências: NASA Astronomia\n",
            "Vamos começar criando o post sobre as novidades em NASA Astronomia!\n",
            "\n",
            "--- Resultado do Agente buscador ---\n",
            "\n"
          ]
        },
        {
          "output_type": "display_data",
          "data": {
            "text/plain": [
              "<IPython.core.display.Markdown object>"
            ],
            "text/markdown": "> Aqui estão alguns lançamentos recentes e relevantes da NASA em astronomia, considerando os últimos meses até 17 de maio de 2025:\n> \n> \n> Com base nas notícias e lançamentos recentes da NASA em astronomia até 17 de maio de 2025, aqui estão alguns destaques relevantes:\n> \n> 1.  **SPHEREx (Spectro-Photometer for the History of the Universe, Epoch of Reionization and Ices Explorer)**: Lançado em fevereiro de 2025, este observatório está mapeando o universo na luz do infravermelho próximo, coletando dados de mais de 450 milhões de galáxias e 100 milhões de estrelas na Via Láctea. A missão tem como objetivo estudar a formação de galáxias, gelo de água e materiais orgânicos em berçários estelares.\n> 2.  **Lucy Mission**: Em abril de 2025, a missão Lucy realizou um sobrevoo do asteroide 52246 Donaldjohanson, capturando imagens detalhadas. A missão continua sua jornada para explorar os asteroides troianos de Júpiter, fornecendo dados valiosos sobre a composição e as características da superfície desses corpos celestes antigos.\n> 3.  **James Webb Space Telescope (JWST) Discoveries**: O JWST continua a fazer descobertas notáveis. Em abril de 2025, foram divulgadas imagens detalhadas da nebulosa planetária NGC 1514, revelando nuances e anéis de poeira \"difusos\". O telescópio também descobriu evidências de um buraco negro supermassivo no coração da galáxia espiral Messier 83 (M83). Adicionalmente, o JWST observou detalhes das auroras de Júpiter e identificou duas estrelas responsáveis por gerar poeira rica em carbono na Via Láctea.\n> 4.  **CLPS (Commercial Lunar Payload Services) Missions**: A NASA continua utilizando o programa CLPS para entregar cargas científicas e tecnológicas à Lua usando landers comerciais. Essas missões visam estudar a geologia lunar, testar novas tecnologias para futuras missões humanas e coletar dados sobre o ambiente lunar.\n> 5.  **Europa Clipper**: A missão Europa Clipper, lançada em outubro de 2024, progrediu em sua jornada para a lua Europa de Júpiter. Em maio de 2025, a sonda capturou Marte em infravermelho. A chegada em Júpiter está prevista para 2030.\n> \n> Outros pontos notáveis:\n> \n> *   A missão Tianwen-2 da China, com lançamento previsto para maio de 2025, tem como objetivo coletar amostras de um asteroide próximo da Terra e estudar um cometa.\n> *   A missão Hera da ESA realizou um sobrevoo de Marte em março de 2025 como parte da missão Asteroid Impact and Deflection Assessment.\n> \n> Esses lançamentos e descobertas destacam o contínuo avanço da NASA na exploração espacial e na compreensão do universo.\n> \n"
          },
          "metadata": {}
        },
        {
          "output_type": "stream",
          "name": "stdout",
          "text": [
            "----------------------------------------------------\n",
            "\n",
            "--- Resultado do Agente Planejador ---\n",
            "\n"
          ]
        },
        {
          "output_type": "display_data",
          "data": {
            "text/plain": [
              "<IPython.core.display.Markdown object>"
            ],
            "text/markdown": "> Okay, com base nos lançamentos recentes da NASA e outras missões espaciais até maio de 2025, vou elaborar um plano de conteúdo para posts em redes sociais. Para isso, usarei a ferramenta de busca para encontrar mais informações relevantes sobre cada tema.\n> \n> \n> Com base nas pesquisas, aqui está um plano de conteúdo detalhado com foco no tema que parece mais interessante e relevante para um público de redes sociais:\n> \n> **Tema Escolhido: James Webb Space Telescope (JWST) - Descoberta de Buraco Negro Supermassivo na Galáxia M83**\n> \n> Este tema é particularmente atraente porque combina a grandiosidade dos buracos negros com as capacidades inovadoras do Telescópio Espacial James Webb, gerando grande impacto e curiosidade.\n> \n> **Pontos Relevantes:**\n> \n> *   **Descoberta Inédita:** O JWST revelou evidências de um buraco negro supermassivo no coração da galáxia Messier 83 (M83), algo que intrigava os astrônomos há décadas.\n> *   **Galáxia M83:** Conhecida como a \"Galáxia do Cata-Vento do Sul\", está localizada a 15 milhões de anos-luz da Terra.\n> *   **Núcleo Galáctico Ativo (AGN):** A descoberta sugere a presença de um AGN, uma região compacta e luminosa no centro da galáxia, alimentada pela matéria que cai no buraco negro.\n> *   **Gás Neon Ionizado:** O JWST detectou emissões de gás neon ionizado, indicando a presença do buraco negro.\n> *   **Importância da Descoberta:** A descoberta auxilia no entendimento de como buracos negros moldam o universo.\n> *   **Tecnologia do JWST:** A capacidade infravermelha do JWST permitiu \"ver\" através da poeira cósmica, revelando o que estava escondido.\n> *   **Próximos Passos:** Astrônomos planejam usar outros telescópios, como o ALMA e o VLT, para confirmar e estudar o buraco negro em detalhes.\n> \n> **Plano de Conteúdo para Redes Sociais:**\n> \n> 1.  **Título Impactante:**\n>     *   \"JWST Desvenda Mistério Cósmico: Buraco Negro 'Escondido' Revelado em Galáxia Distante!\"\n>     *   \"Telescópio James Webb Faz Descoberta Histórica: Um Buraco Negro Supermassivo na M83!\"\n> \n> 2.  **Conteúdo do Post:**\n> \n>     *   **Introdução:**\n>         *   \"Prepare-se para uma descoberta que vai expandir seus horizontes cósmicos! O Telescópio Espacial James Webb (JWST) acaba de revelar evidências de um buraco negro supermassivo no coração da galáxia Messier 83 (M83), um mistério que intrigava astrônomos há décadas!\"\n>     *   **Detalhes da Descoberta:**\n>         *   \"Localizada a 15 milhões de anos-luz de nós, a M83, também conhecida como a 'Galáxia do Cata-Vento do Sul', sempre foi peculiar. Agora, o JWST detectou emissões de gás neon ionizado, um forte indício de um Núcleo Galáctico Ativo (AGN) alimentado por um buraco negro faminto!\"\n>     *   **Por que Isso Importa:**\n>         *   \"Essa descoberta não é apenas uma curiosidade cósmica. Ela nos ajuda a entender melhor como os buracos negros supermassivos influenciam a evolução das galáxias e moldam o universo como o conhecemos!\"\n>     *   **O Poder do JWST:**\n>         *   \"O JWST, com sua incrível capacidade de 'ver' através da poeira cósmica usando luz infravermelha, conseguiu onde outros falharam. É como ter óculos de visão noturna para o universo profundo!\"\n>     *   **O Que Vem a Seguir:**\n>         *   \"A saga não termina aqui! Os cientistas agora usarão outros telescópios poderosos, como o ALMA e o VLT, para confirmar e estudar esse buraco negro em detalhes. Fiquem ligados para mais atualizações!\"\n>     *   **Chamada para Ação:**\n>         *   \"O que você acha dessa descoberta? Compartilhe suas teorias e perguntas nos comentários! E não se esqueça de seguir nossa página para mais notícias incríveis do universo da astronomia!\"\n> \n> 3.  **Elementos Visuais:**\n> \n>     *   **Imagem:** Utilizar a imagem mais recente e impressionante da galáxia M83 obtida pelo JWST.\n>     *   **Vídeo (opcional):** Um vídeo curto explicando o que são buracos negros supermassivos e como o JWST os detecta.\n> \n> 4.  **Hashtags:**\n> \n>     *   #JWST #JamesWebb #BuracoNegro #M83 #Astronomia #Espaço #Ciência #Descoberta #Galáxia #Universo #NASA\n> \n> 5.  **Adaptações para Diferentes Plataformas:**\n> \n>     *   **Twitter:** Posts mais concisos, focando nos highlights da descoberta.\n>     *   **Instagram:** Ênfase na imagem visualmente atraente, com legendas informativas.\n>     *   **Facebook:** Conteúdo mais detalhado e explicativo, incentivando a discussão.\n>     *   **TikTok:** Vídeos curtos e dinâmicos explicando a descoberta de forma simples e envolvente.\n> \n> Este plano de conteúdo busca não apenas informar, mas também inspirar e engajar o público, mostrando a importância e a beleza da exploração espacial e das descobertas científicas.\n> \n"
          },
          "metadata": {}
        },
        {
          "output_type": "stream",
          "name": "stdout",
          "text": [
            "----------------------------------------------------\n",
            "\n",
            "--- Resultado do Agente Redator ---\n",
            "\n"
          ]
        },
        {
          "output_type": "display_data",
          "data": {
            "text/plain": [
              "<IPython.core.display.Markdown object>"
            ],
            "text/markdown": "> 🔭🌌 **IMAGEM:** Uma foto deslumbrante da galáxia M83 capturada pelo James Webb.\n> \n> Prepare-se para ter sua mente explodida! 🤯 O Telescópio Espacial James Webb acaba de fazer uma descoberta INACREDITÁVEL: um buraco negro supermassivo escondido no coração da galáxia M83! 😱\n> \n> Localizada a 15 milhões de anos-luz de nós, a M83, também conhecida como a \"Galáxia do Cata-Vento do Sul\", guardava um segredo cósmico. O JWST detectou emissões de gás neon ionizado, revelando um Núcleo Galáctico Ativo (AGN) faminto, alimentado por um buraco negro gigante! 🕳️✨\n> \n> E por que isso importa? 🤔 Essa descoberta nos ajuda a entender como esses monstros cósmicos moldam as galáxias e o universo! O JWST, com sua visão infravermelha superpoderosa, conseguiu enxergar através da poeira cósmica e revelar o que estava escondido. 🔭\n> \n> E não para por aí! 🚀 Os cientistas vão usar outros telescópios para estudar esse buraco negro de perto. Fique ligado para mais atualizações cósmicas! 😉\n> \n> O que você acha dessa descoberta? Compartilhe sua opinião nos comentários e marque um amigo que ama astronomia! 👇\n> \n> #JWST #BuracoNegro #Astronomia #Alura \n> \n"
          },
          "metadata": {}
        },
        {
          "output_type": "stream",
          "name": "stdout",
          "text": [
            "----------------------------------------------------\n",
            "\n",
            "--- Resultado do Agente Revisor ---\n",
            "\n"
          ]
        },
        {
          "output_type": "display_data",
          "data": {
            "text/plain": [
              "<IPython.core.display.Markdown object>"
            ],
            "text/markdown": "> O rascunho está bom, mas podemos fazer algumas melhorias para deixá-lo ainda mais atraente e informativo para o público do Instagram:\n> \n> **Problemas e Sugestões:**\n> \n> 1.  **Tom:** O tom está bom, mas podemos equilibrar o entusiasmo com um pouco mais de informação acessível.\n> 2.  **Emojis:** O uso excessivo de emojis pode ser um pouco demais. Sugiro reduzir um pouco para não sobrecarregar a leitura.\n> 3.  **Hashtags:** Adicionar algumas hashtags mais específicas pode aumentar o alcance do post.\n> \n> **Rascunho Revisado:**\n> \n> 🔭🌌 **IMAGEM:** Uma foto deslumbrante da galáxia M83 capturada pelo James Webb.\n> \n> 💥 Preparados para essa? O Telescópio Espacial James Webb acaba de revelar um segredo cósmico na galáxia M83: um buraco negro supermassivo!\n> \n> Localizada a 15 milhões de anos-luz, a M83 (ou Galáxia do Cata-Vento do Sul) escondia um Núcleo Galáctico Ativo (AGN). O JWST detectou emissões de gás neon ionizado, mostrando que um buraco negro gigante está se alimentando ali! 🕳️✨\n> \n> Por que isso é tão incrível? 🤔 Entender esses \"monstros cósmicos\" nos ajuda a descobrir como as galáxias e o universo evoluem! Com sua visão infravermelha superpoderosa, o JWST consegue enxergar através da poeira cósmica e revelar segredos como esse. 🔭\n> \n> E tem mais! 🚀 Os cientistas agora vão usar outros telescópios para estudar esse buraco negro de pertinho. Fiquem ligados para mais novidades do universo! 😉\n> \n> O que acharam dessa descoberta? Comentem aqui embaixo e marquem um amigo que curte astronomia! 👇\n> \n> #JWST #BuracoNegro #Astronomia #M83 #JamesWebbTelescope #Astrofísica #Galáxias #Alura\n> \n"
          },
          "metadata": {}
        },
        {
          "output_type": "stream",
          "name": "stdout",
          "text": [
            "----------------------------------------------------\n",
            "\n",
            "🎉 Post criado com sucesso! 🎉\n"
          ]
        }
      ]
    }
  ]
}